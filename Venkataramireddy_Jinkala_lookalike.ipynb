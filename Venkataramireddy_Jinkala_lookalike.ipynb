{
 "cells": [
  {
   "cell_type": "code",
   "execution_count": 2,
   "id": "20437645",
   "metadata": {},
   "outputs": [],
   "source": [
    "import pandas as pd\n",
    "from sklearn.preprocessing import MinMaxScaler\n",
    "from sklearn.metrics.pairwise import cosine_similarity\n",
    "\n",
    "# Load data\n",
    "customers_file = \"C:/Users/Jinkala Venkat/Downloads/Customers.csv\"\n",
    "products_file = \"C:/Users/Jinkala Venkat/Downloads/Products.csv\"\n",
    "transactions_file = \"C:/Users/Jinkala Venkat/Downloads/Transactions.csv\"\n",
    "\n",
    "customers = pd.read_csv(customers_file)\n",
    "products = pd.read_csv(products_file)\n",
    "transactions = pd.read_csv(transactions_file)\n",
    "\n",
    "# Merge datasets\n",
    "transactions_products = pd.merge(transactions, products, on=\"ProductID\", how=\"left\")\n",
    "full_data = pd.merge(transactions_products, customers, on=\"CustomerID\", how=\"left\")\n",
    "\n",
    "# Create customer profiles\n",
    "customer_profiles = full_data.groupby(\"CustomerID\").agg({\n",
    "    \"Region\": \"first\",\n",
    "    \"SignupDate\": \"first\",\n",
    "    \"Category\": lambda x: x.value_counts().idxmax(),\n",
    "    \"Price_y\": \"mean\",\n",
    "    \"TotalValue\": \"sum\",\n",
    "    \"Quantity\": \"sum\"\n",
    "}).reset_index()\n",
    "\n",
    "# Normalize numerical features\n",
    "scaler = MinMaxScaler()\n",
    "numerical_cols = [\"Price_y\", \"TotalValue\", \"Quantity\"]\n",
    "customer_profiles[numerical_cols] = scaler.fit_transform(customer_profiles[numerical_cols])\n",
    "\n",
    "# One-hot encode categorical features\n",
    "features = [\"Region\", \"Category\", \"Price_y\", \"TotalValue\", \"Quantity\"]\n",
    "encoded_profiles = pd.get_dummies(customer_profiles[features])\n",
    "\n",
    "# Compute similarity matrix\n",
    "similarity_matrix = cosine_similarity(encoded_profiles)\n",
    "\n",
    "# Generate lookalike recommendations\n",
    "lookalike_map = {}\n",
    "customer_ids = customer_profiles[\"CustomerID\"].tolist()\n",
    "\n",
    "for idx, customer_id in enumerate(customer_ids[:20]):\n",
    "    similarity_scores = list(enumerate(similarity_matrix[idx]))\n",
    "    top_similar = sorted(similarity_scores, key=lambda x: x[1], reverse=True)[1:4]\n",
    "    lookalike_map[customer_id] = [(customer_ids[i], round(score, 4)) for i, score in top_similar]\n",
    "\n",
    "# Save results to CSV\n",
    "lookalike_df = pd.DataFrame({\n",
    "    \"CustomerID\": lookalike_map.keys(),\n",
    "    \"Lookalikes\": [str(v) for v in lookalike_map.values()]\n",
    "})\n",
    "lookalike_df.to_csv(\"Lookalike.csv\", index=False)\n"
   ]
  },
  {
   "cell_type": "code",
   "execution_count": null,
   "id": "d154d656",
   "metadata": {},
   "outputs": [],
   "source": []
  }
 ],
 "metadata": {
  "kernelspec": {
   "display_name": "Python 3 (ipykernel)",
   "language": "python",
   "name": "python3"
  },
  "language_info": {
   "codemirror_mode": {
    "name": "ipython",
    "version": 3
   },
   "file_extension": ".py",
   "mimetype": "text/x-python",
   "name": "python",
   "nbconvert_exporter": "python",
   "pygments_lexer": "ipython3",
   "version": "3.11.5"
  }
 },
 "nbformat": 4,
 "nbformat_minor": 5
}
